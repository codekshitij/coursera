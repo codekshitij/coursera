{
  "nbformat": 4,
  "nbformat_minor": 0,
  "metadata": {
    "colab": {
      "provenance": [],
      "authorship_tag": "ABX9TyOC+BoIxiwyS0tJV82D8oeA",
      "include_colab_link": true
    },
    "kernelspec": {
      "name": "python3",
      "display_name": "Python 3"
    },
    "language_info": {
      "name": "python"
    }
  },
  "cells": [
    {
      "cell_type": "markdown",
      "metadata": {
        "id": "view-in-github",
        "colab_type": "text"
      },
      "source": [
        "<a href=\"https://colab.research.google.com/github/codekshitij/coursera/blob/main/coursera.ipynb\" target=\"_parent\"><img src=\"https://colab.research.google.com/assets/colab-badge.svg\" alt=\"Open In Colab\"/></a>"
      ]
    },
    {
      "cell_type": "markdown",
      "source": [],
      "metadata": {
        "id": "WwV6_7G5dMkx"
      }
    },
    {
      "cell_type": "markdown",
      "source": [
        "# My Data Science Notebook\n"
      ],
      "metadata": {
        "id": "28RmSEnCdOJD"
      }
    },
    {
      "cell_type": "markdown",
      "source": [
        "## Introduction\n",
        "\n",
        "This notebook is a collection of exercises and examples related to data science and programming.\n",
        "\n"
      ],
      "metadata": {
        "id": "YBAPpd0CdR8Q"
      }
    },
    {
      "cell_type": "markdown",
      "source": [
        "## Data Science Languages\n",
        "\n",
        "1. Python\n",
        "2. R\n",
        "3. Julia\n",
        "4. SQL\n",
        "5. SAS\n"
      ],
      "metadata": {
        "id": "zhLbT4BGdhq0"
      }
    },
    {
      "cell_type": "markdown",
      "source": [
        "## Data Science Libraries\n",
        "\n",
        "- NumPy\n",
        "- Pandas\n",
        "- Matplotlib\n",
        "- Seaborn\n",
        "- Scikit-Learn\n"
      ],
      "metadata": {
        "id": "EvdWax0Ndl6y"
      }
    },
    {
      "cell_type": "markdown",
      "source": [
        "## Data Science Tools\n",
        "\n",
        "| Tool            | Description                     |\n",
        "|-----------------|---------------------------------|\n",
        "| Jupyter Notebook| Interactive Data Science        |\n",
        "| RStudio         | Integrated R Development        |\n",
        "| Tableau         | Data Visualization              |\n",
        "| SQL            | Database Querying and Analysis  |\n"
      ],
      "metadata": {
        "id": "ryIUq6q5dsBB"
      }
    },
    {
      "cell_type": "markdown",
      "source": [
        "## Arithmetic Expression Examples\n",
        "\n",
        "In the following code cells, we will explore some basic arithmetic expressions.\n"
      ],
      "metadata": {
        "id": "4_g9yuOHdtq0"
      }
    },
    {
      "cell_type": "code",
      "source": [
        "# Multiply and Add Numbers\n",
        "result = (5 * 3) + 7\n",
        "result\n"
      ],
      "metadata": {
        "id": "LALSFY7fd63O"
      },
      "execution_count": null,
      "outputs": []
    },
    {
      "cell_type": "code",
      "source": [
        "# Convert Minutes to Hours\n",
        "minutes = 120\n",
        "hours = minutes / 60\n",
        "hours\n"
      ],
      "metadata": {
        "id": "-KmPB6BVd-Kd"
      },
      "execution_count": null,
      "outputs": []
    },
    {
      "cell_type": "markdown",
      "source": [
        "## Objectives\n",
        "\n",
        "- Learn basic data science concepts.\n",
        "- Practice arithmetic expressions.\n",
        "- Explore data science tools and libraries.\n"
      ],
      "metadata": {
        "id": "MILj4EWUeDUw"
      }
    },
    {
      "cell_type": "markdown",
      "source": [
        "Kshitij Mishra"
      ],
      "metadata": {
        "id": "_kDbIOUegjxq"
      }
    },
    {
      "cell_type": "markdown",
      "source": [],
      "metadata": {
        "id": "LHaQGCA4gtyE"
      }
    }
  ]
}